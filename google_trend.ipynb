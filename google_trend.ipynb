{
 "cells": [
  {
   "cell_type": "code",
   "execution_count": 1,
   "metadata": {
    "collapsed": true
   },
   "outputs": [],
   "source": [
    "from pytrends.request import TrendReq\n",
    "import openpyxl"
   ]
  },
  {
   "cell_type": "code",
   "execution_count": 10,
   "metadata": {
    "scrolled": true
   },
   "outputs": [
    {
     "name": "stdout",
     "output_type": "stream",
     "text": [
      "2004-1-1 2004-6-30\n",
      "2004-7-1 2004-12-31\n",
      "2005-1-1 2005-6-30\n",
      "2005-7-1 2005-12-31\n",
      "2006-1-1 2006-6-30\n",
      "2006-7-1 2006-12-31\n",
      "2007-1-1 2007-6-30\n",
      "2007-7-1 2007-12-31\n",
      "2008-1-1 2008-6-30\n",
      "2008-7-1 2008-12-31\n",
      "2009-1-1 2009-6-30\n",
      "2009-7-1 2009-12-31\n",
      "2010-1-1 2010-6-30\n",
      "2010-7-1 2010-12-31\n",
      "2011-1-1 2011-6-30\n",
      "2011-7-1 2011-12-31\n",
      "2012-1-1 2012-6-30\n",
      "2012-7-1 2012-12-31\n",
      "2013-1-1 2013-6-30\n",
      "2013-7-1 2013-12-31\n",
      "2014-1-1 2014-6-30\n",
      "2014-7-1 2014-12-31\n",
      "2015-1-1 2015-6-30\n",
      "2015-7-1 2015-12-31\n",
      "2016-1-1 2016-6-30\n",
      "2016-7-1 2016-12-31\n",
      "2017-1-1 2017-6-30\n",
      "2017-7-1 2017-12-31\n"
     ]
    }
   ],
   "source": [
    "key = \"IBM\"\n",
    "pytrend = TrendReq()\n",
    "mydata = []\n",
    "dateperiodA = '2004-1-1 2004-6-30'\n",
    "dateperiodB = '2004-7-1 2004-12-31'\n",
    "for i in range(4, 18):\n",
    "    tempA = list(dateperiodA)\n",
    "    tempB = list(dateperiodB)    \n",
    "    if(i<10):\n",
    "        tempA[3:4] = str(i)\n",
    "        tempA[12:13] = str(i)\n",
    "        tempB[3:4] = str(i)\n",
    "        tempB[12:13] = str(i)\n",
    "    else:\n",
    "        tempA[2:4] = str(i)\n",
    "        tempA[11:13] = str(i)\n",
    "        tempB[2:4] = str(i)\n",
    "        tempB[11:13] = str(i)\n",
    "    a = \"\".join(tempA)\n",
    "    b = \"\".join(tempB)\n",
    "    dateperiodA = a\n",
    "    dateperiodB = b\n",
    "    # Create payload and capture API tokens. Only needed for interest_over_time(), interest_by_region() & related_queries()\n",
    "    #timeframe='2004-1-1 2017-10-31')\n",
    "    print(dateperiodA)    \n",
    "    pytrend.build_payload(kw_list=[key],timeframe=a)\n",
    "    interest_over_time_df = pytrend.interest_over_time()\n",
    "    for i in range(0, len(interest_over_time_df)):\n",
    "        row = []\n",
    "        temp = interest_over_time_df.index[i]\n",
    "        row.append(temp.strftime('%Y-%m-%d'))\n",
    "        row.append(interest_over_time_df.values[i][0])    \n",
    "        mydata.append(row)\n",
    "    print(dateperiodB)    \n",
    "    pytrend.build_payload(kw_list=[key],timeframe=b)\n",
    "    interest_over_time_df = pytrend.interest_over_time()\n",
    "    for i in range(0, len(interest_over_time_df)):\n",
    "        row = []\n",
    "        temp = interest_over_time_df.index[i]\n",
    "        row.append(temp.strftime('%Y-%m-%d'))\n",
    "        row.append(interest_over_time_df.values[i][0])    \n",
    "        mydata.append(row)"
   ]
  },
  {
   "cell_type": "code",
   "execution_count": 11,
   "metadata": {},
   "outputs": [],
   "source": [
    "wb = openpyxl.load_workbook(\"googleTrend.xlsx\")\n",
    "ws = wb.get_sheet_by_name(\"data\")\n",
    "for i in range(0, len(mydata)):\n",
    "    a = \"A\"+str(i+1)\n",
    "    b = \"B\"+str(i+1)\n",
    "    c = \"C\"+str(i+1)\n",
    "    ws[a] = mydata[i][0]\n",
    "    ws[b] = mydata[i][1]\n",
    "    ws[c] = key\n",
    "wb.save(\"googleTrend.xlsx\")"
   ]
  }
 ],
 "metadata": {
  "kernelspec": {
   "display_name": "Python 3",
   "language": "python",
   "name": "python3"
  },
  "language_info": {
   "codemirror_mode": {
    "name": "ipython",
    "version": 3
   },
   "file_extension": ".py",
   "mimetype": "text/x-python",
   "name": "python",
   "nbconvert_exporter": "python",
   "pygments_lexer": "ipython3",
   "version": "3.6.1"
  }
 },
 "nbformat": 4,
 "nbformat_minor": 2
}
